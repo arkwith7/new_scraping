{
    "cells": [
     {
      "cell_type": "markdown",
      "metadata": {},
      "source": [
       "# SK하이닉스 리더십 뉴스 데이터 기반 LDA 토픽 모델링 분석"
      ]
     },
     {
      "cell_type": "code",
      "metadata": {},
      "source": [
       "!pip install konlpy\n",
       "!pip install gensim"
      ],
      "execution_count": null,
      "outputs": []
     },
     {
      "cell_type": "code",
      "metadata": {},
      "source": [
       "from google.colab import files\n",
       "uploaded = files.upload()"
      ],
      "execution_count": null,
      "outputs": []
     },
     {
      "cell_type": "code",
      "metadata": {},
      "source": [
       "import pandas as pd\n",
       "df = pd.read_csv('leadership_news.csv')\n",
       "documents = df['content'].dropna().tolist()"
      ],
      "execution_count": null,
      "outputs": []
     },
     {
      "cell_type": "markdown",
      "metadata": {},
      "source": [
       "## 도메인 키워드 및 불용어 정의"
      ]
     },
     {
      "cell_type": "code",
      "metadata": {},
      "source": [
       "domain_keywords = set([\n",
       "    'HBM', 'HBM3', 'DDR5', 'DDR4', '낸드플래시', 'D램', 'DRAM',\n",
       "    'AI', 'AI 리더십', 'AI 생태계', 'AI 메모리',\n",
       "    'SKMS', '리더십', '조직문화', '지속가능경영', '고객 중심', '기술 리더십'\n",
       "])\n",
       "\n",
       "stopwords = ['하다', '되다', '있다', '없다', '위해', '대한', '그리고', '또한', '이런', '이번', '통해', '적용', '포함']"
      ],
      "execution_count": null,
      "outputs": []
     },
     {
      "cell_type": "code",
      "metadata": {},
      "source": [
       "from konlpy.tag import Okt\n",
       "okt = Okt()\n",
       "\n",
       "def preprocess(doc):\n",
       "    tokens = okt.nouns(doc)\n",
       "    return [t for t in tokens if (t in domain_keywords or (len(t) > 1 and t not in stopwords))]\n",
       "\n",
       "texts = [preprocess(doc) for doc in documents]"
      ],
      "execution_count": null,
      "outputs": []
     },
     {
      "cell_type": "code",
      "metadata": {},
      "source": [
       "from gensim import corpora, models\n",
       "\n",
       "dictionary = corpora.Dictionary(texts)\n",
       "corpus = [dictionary.doc2bow(text) for text in texts]\n",
       "\n",
       "lda_model = models.LdaModel(corpus, num_topics=3, id2word=dictionary, passes=10)\n",
       "topics = lda_model.print_topics(num_words=5)\n",
       "\n",
       "for topic in topics:\n",
       "    print(topic)"
      ],
      "execution_count": null,
      "outputs": []
     }
    ],
    "metadata": {
     "kernelspec": {
      "display_name": "Python 3",
      "language": "python",
      "name": "python3"
     },
     "language_info": {
      "name": "python",
      "version": "3.10"
     }
    },
    "nbformat": 4,
    "nbformat_minor": 2
   } 